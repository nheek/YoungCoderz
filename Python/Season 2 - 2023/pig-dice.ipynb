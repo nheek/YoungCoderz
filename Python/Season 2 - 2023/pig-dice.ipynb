{
 "cells": [
  {
   "cell_type": "code",
   "execution_count": 10,
   "metadata": {},
   "outputs": [
    {
     "name": "stdout",
     "output_type": "stream",
     "text": [
      "\n",
      "          Welcome to 'Pig', a dice game!\n",
      "    \n",
      "    In this game, a user and a computer opponent \n",
      "    roll a 6-sided dice each round. If the value of\n",
      "    the dice is a 1, the player that rolled the 1 loses\n",
      "    all of their points. Otherwise, the player gets the\n",
      "    value of the dice added to their points. The first\n",
      "    player to reach 30 points wins!\n",
      "\n",
      "nheek rolls a 3\n",
      "Computer rolls a 4\n",
      "\n",
      "####################\n",
      "Player Score: 3\n",
      "Computer Score: 4\n",
      "####################\n",
      "\n",
      "nheek rolls a 1\n",
      "Computer rolls a 6\n",
      "\n",
      "####################\n",
      "Player Score: 0\n",
      "Computer Score: 10\n",
      "####################\n",
      "\n",
      "nheek rolls a 1\n",
      "Computer rolls a 2\n",
      "\n",
      "####################\n",
      "Player Score: 0\n",
      "Computer Score: 12\n",
      "####################\n",
      "\n"
     ]
    },
    {
     "ename": "KeyboardInterrupt",
     "evalue": "Interrupted by user",
     "output_type": "error",
     "traceback": [
      "\u001b[0;31m---------------------------------------------------------------------------\u001b[0m",
      "\u001b[0;31mKeyboardInterrupt\u001b[0m                         Traceback (most recent call last)",
      "\u001b[1;32m/Users/nick.mmrdl/Library/Mobile Documents/com~apple~CloudDocs/YoungCoderz/Python/Season 2 - 2023/pig-dice.ipynb Cell 1\u001b[0m line \u001b[0;36m3\n\u001b[1;32m     <a href='vscode-notebook-cell:/Users/nick.mmrdl/Library/Mobile%20Documents/com~apple~CloudDocs/YoungCoderz/Python/Season%202%20-%202023/pig-dice.ipynb#W0sZmlsZQ%3D%3D?line=33'>34</a>\u001b[0m in_game \u001b[39m=\u001b[39m \u001b[39mTrue\u001b[39;00m\n\u001b[1;32m     <a href='vscode-notebook-cell:/Users/nick.mmrdl/Library/Mobile%20Documents/com~apple~CloudDocs/YoungCoderz/Python/Season%202%20-%202023/pig-dice.ipynb#W0sZmlsZQ%3D%3D?line=35'>36</a>\u001b[0m \u001b[39mwhile\u001b[39;00m in_game:\n\u001b[0;32m---> <a href='vscode-notebook-cell:/Users/nick.mmrdl/Library/Mobile%20Documents/com~apple~CloudDocs/YoungCoderz/Python/Season%202%20-%202023/pig-dice.ipynb#W0sZmlsZQ%3D%3D?line=36'>37</a>\u001b[0m     in_game \u001b[39m=\u001b[39m \u001b[39minput\u001b[39;49m(\u001b[39mf\u001b[39;49m\u001b[39m\"\u001b[39;49m\u001b[39mPress Enter in keyboard to roll the dice \u001b[39;49m\u001b[39m{\u001b[39;49;00musername\u001b[39m}\u001b[39;49;00m\u001b[39m!\u001b[39;49m\u001b[39m\"\u001b[39;49m)\n\u001b[1;32m     <a href='vscode-notebook-cell:/Users/nick.mmrdl/Library/Mobile%20Documents/com~apple~CloudDocs/YoungCoderz/Python/Season%202%20-%202023/pig-dice.ipynb#W0sZmlsZQ%3D%3D?line=37'>38</a>\u001b[0m     \u001b[39mif\u001b[39;00m in_game \u001b[39m==\u001b[39m \u001b[39m\"\u001b[39m\u001b[39m\"\u001b[39m:\n\u001b[1;32m     <a href='vscode-notebook-cell:/Users/nick.mmrdl/Library/Mobile%20Documents/com~apple~CloudDocs/YoungCoderz/Python/Season%202%20-%202023/pig-dice.ipynb#W0sZmlsZQ%3D%3D?line=38'>39</a>\u001b[0m         in_game \u001b[39m=\u001b[39m \u001b[39mTrue\u001b[39;00m\n",
      "File \u001b[0;32m~/Library/Python/3.10/lib/python/site-packages/ipykernel/kernelbase.py:1202\u001b[0m, in \u001b[0;36mKernel.raw_input\u001b[0;34m(self, prompt)\u001b[0m\n\u001b[1;32m   1200\u001b[0m     msg \u001b[39m=\u001b[39m \u001b[39m\"\u001b[39m\u001b[39mraw_input was called, but this frontend does not support input requests.\u001b[39m\u001b[39m\"\u001b[39m\n\u001b[1;32m   1201\u001b[0m     \u001b[39mraise\u001b[39;00m StdinNotImplementedError(msg)\n\u001b[0;32m-> 1202\u001b[0m \u001b[39mreturn\u001b[39;00m \u001b[39mself\u001b[39;49m\u001b[39m.\u001b[39;49m_input_request(\n\u001b[1;32m   1203\u001b[0m     \u001b[39mstr\u001b[39;49m(prompt),\n\u001b[1;32m   1204\u001b[0m     \u001b[39mself\u001b[39;49m\u001b[39m.\u001b[39;49m_parent_ident[\u001b[39m\"\u001b[39;49m\u001b[39mshell\u001b[39;49m\u001b[39m\"\u001b[39;49m],\n\u001b[1;32m   1205\u001b[0m     \u001b[39mself\u001b[39;49m\u001b[39m.\u001b[39;49mget_parent(\u001b[39m\"\u001b[39;49m\u001b[39mshell\u001b[39;49m\u001b[39m\"\u001b[39;49m),\n\u001b[1;32m   1206\u001b[0m     password\u001b[39m=\u001b[39;49m\u001b[39mFalse\u001b[39;49;00m,\n\u001b[1;32m   1207\u001b[0m )\n",
      "File \u001b[0;32m~/Library/Python/3.10/lib/python/site-packages/ipykernel/kernelbase.py:1245\u001b[0m, in \u001b[0;36mKernel._input_request\u001b[0;34m(self, prompt, ident, parent, password)\u001b[0m\n\u001b[1;32m   1242\u001b[0m \u001b[39mexcept\u001b[39;00m \u001b[39mKeyboardInterrupt\u001b[39;00m:\n\u001b[1;32m   1243\u001b[0m     \u001b[39m# re-raise KeyboardInterrupt, to truncate traceback\u001b[39;00m\n\u001b[1;32m   1244\u001b[0m     msg \u001b[39m=\u001b[39m \u001b[39m\"\u001b[39m\u001b[39mInterrupted by user\u001b[39m\u001b[39m\"\u001b[39m\n\u001b[0;32m-> 1245\u001b[0m     \u001b[39mraise\u001b[39;00m \u001b[39mKeyboardInterrupt\u001b[39;00m(msg) \u001b[39mfrom\u001b[39;00m \u001b[39mNone\u001b[39;00m\n\u001b[1;32m   1246\u001b[0m \u001b[39mexcept\u001b[39;00m \u001b[39mException\u001b[39;00m:\n\u001b[1;32m   1247\u001b[0m     \u001b[39mself\u001b[39m\u001b[39m.\u001b[39mlog\u001b[39m.\u001b[39mwarning(\u001b[39m\"\u001b[39m\u001b[39mInvalid Message:\u001b[39m\u001b[39m\"\u001b[39m, exc_info\u001b[39m=\u001b[39m\u001b[39mTrue\u001b[39;00m)\n",
      "\u001b[0;31mKeyboardInterrupt\u001b[0m: Interrupted by user"
     ]
    }
   ],
   "source": [
    "from random import randint\n",
    "import time\n",
    "\n",
    "def update_score(score, dice_value):\n",
    "    if dice_value == 1:\n",
    "        return 0\n",
    "    else:\n",
    "        return score + dice_value\n",
    "\n",
    "def display_scoreboard(player_score, computer_score):\n",
    "    print()\n",
    "    print(\"#\" * 20)\n",
    "    print(f\"Player Score: {player_score}\")\n",
    "    print(f\"Computer Score: {computer_score}\")\n",
    "    print(\"#\" * 20)\n",
    "    print()\n",
    "\n",
    "player_score = 0\n",
    "computer_score = 0\n",
    "welcome_message = \"\"\"\n",
    "          Welcome to 'Pig', a dice game!\n",
    "    \n",
    "    In this game, a user and a computer opponent \n",
    "    roll a 6-sided dice each round. If the value of\n",
    "    the dice is a 1, the player that rolled the 1 loses\n",
    "    all of their points. Otherwise, the player gets the\n",
    "    value of the dice added to their points. The first\n",
    "    player to reach 30 points wins!\n",
    "\"\"\"\n",
    "\n",
    "print(welcome_message)\n",
    "\n",
    "username = input(\"What is your name? \")\n",
    "in_game = True\n",
    "in_game = False if in_game else True\n",
    "while in_game:\n",
    "    in_game = input(f\"Press Enter in keyboard to roll the dice {username}!\")\n",
    "    if in_game == \"\":\n",
    "        in_game = True\n",
    "    else:\n",
    "        in_game = False\n",
    "\n",
    "    player_dice_value = randint(1, 6)\n",
    "    print(f\"{username} rolls a {player_dice_value}\")\n",
    "\n",
    "    computer_dice_value = randint(1, 6)\n",
    "    print(f\"Computer rolls a {computer_dice_value}\")\n",
    "\n",
    "    player_score = update_score(player_score, player_dice_value)\n",
    "    computer_score = update_score(computer_score, computer_dice_value)\n",
    "\n",
    "    # time.sleep(1)\n",
    "    display_scoreboard(player_score, computer_score)\n",
    "\n",
    "    if player_score >= 30:\n",
    "        print(f\"{username} wins!\")\n",
    "        break\n",
    "    elif computer_score >= 30:\n",
    "        print(\"Computer wins!\")\n",
    "        break\n",
    "\n"
   ]
  },
  {
   "cell_type": "code",
   "execution_count": 7,
   "metadata": {},
   "outputs": [
    {
     "name": "stdout",
     "output_type": "stream",
     "text": [
      "00000000000000000000\n"
     ]
    }
   ],
   "source": [
    "print(\"0\" * 20)"
   ]
  },
  {
   "cell_type": "code",
   "execution_count": 9,
   "metadata": {},
   "outputs": [
    {
     "name": "stdout",
     "output_type": "stream",
     "text": [
      "Hi\n"
     ]
    }
   ],
   "source": [
    "import time\n",
    "\n",
    "time.sleep(1)\n",
    "\n",
    "print(\"Hi\")"
   ]
  },
  {
   "cell_type": "code",
   "execution_count": 12,
   "metadata": {},
   "outputs": [
    {
     "data": {
      "text/plain": [
       "30"
      ]
     },
     "execution_count": 12,
     "metadata": {},
     "output_type": "execute_result"
    }
   ],
   "source": [
    "def update_score(score, dice_value):\n",
    "    if dice_value == 1:\n",
    "        return 0\n",
    "    else:\n",
    "        return score + dice_value\n",
    "    \n",
    "\n",
    "update_score(20, 10)"
   ]
  },
  {
   "cell_type": "code",
   "execution_count": 14,
   "metadata": {},
   "outputs": [
    {
     "name": "stdout",
     "output_type": "stream",
     "text": [
      "\n",
      "####################\n",
      "Player Score: 20\n",
      "Computer Score: 10\n",
      "####################\n",
      "\n"
     ]
    }
   ],
   "source": [
    "def display_scoreboard(player_score, computer_score):\n",
    "    print()\n",
    "    print(\"#\" * 20)\n",
    "    print(f\"Player Score: {player_score}\")\n",
    "    print(f\"Computer Score: {computer_score}\")\n",
    "    print(\"#\" * 20)\n",
    "    print()\n",
    "\n",
    "display_scoreboard(20, 10)"
   ]
  },
  {
   "cell_type": "code",
   "execution_count": null,
   "metadata": {},
   "outputs": [],
   "source": []
  }
 ],
 "metadata": {
  "kernelspec": {
   "display_name": "Python 3",
   "language": "python",
   "name": "python3"
  },
  "language_info": {
   "codemirror_mode": {
    "name": "ipython",
    "version": 3
   },
   "file_extension": ".py",
   "mimetype": "text/x-python",
   "name": "python",
   "nbconvert_exporter": "python",
   "pygments_lexer": "ipython3",
   "version": "3.10.8"
  }
 },
 "nbformat": 4,
 "nbformat_minor": 2
}
