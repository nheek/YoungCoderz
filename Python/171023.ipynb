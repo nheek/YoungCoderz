{
 "cells": [
  {
   "cell_type": "markdown",
   "metadata": {},
   "source": [
    "## Coin Flipper"
   ]
  },
  {
   "cell_type": "code",
   "execution_count": 3,
   "metadata": {},
   "outputs": [
    {
     "name": "stdout",
     "output_type": "stream",
     "text": [
      "Bot won :(\n"
     ]
    }
   ],
   "source": [
    "import random\n",
    "\n",
    "user_choice = input(\"Heads or Tails?\").lower()\n",
    "user_choice = 0 if user_choice == \"heads\" else 1\n",
    "result = random.randint(0, 1)\n",
    "\n",
    "if user_choice == result:\n",
    "    print(\"You won!\")\n",
    "else:\n",
    "    print(\"Bot won :(\")\n",
    "\n"
   ]
  },
  {
   "cell_type": "markdown",
   "metadata": {},
   "source": [
    "## Hogwarts Challenge"
   ]
  },
  {
   "cell_type": "code",
   "execution_count": 7,
   "metadata": {},
   "outputs": [
    {
     "name": "stdout",
     "output_type": "stream",
     "text": [
      "Nick Hipol...\n",
      "hmmm...\n",
      "i sense something in you...\n",
      "Nick Hipol, you are a...\n",
      "...\n",
      "...\n",
      "Ravenclaw!\n"
     ]
    }
   ],
   "source": [
    "import random\n",
    "import time\n",
    "\n",
    "user_name = input(\"What's your full name?\").lower().title()\n",
    "result = random.randint(0, 3)\n",
    "hogwarts_houses = [\"Gryffindor\", \"Slytherin\", \"Ravenclaw\", \"Hufflepuff\"]\n",
    "results = [f\"{user_name}...\", \"hmmm...\", \"i sense something in you...\", f\"{user_name}, you are a...\", \"...\", \"...\", f\"{hogwarts_houses[result]}!\"]\n",
    "\n",
    "for x in results:\n",
    "    print(x)\n",
    "    time.sleep(2)\n",
    "\n"
   ]
  },
  {
   "cell_type": "code",
   "execution_count": null,
   "metadata": {},
   "outputs": [],
   "source": []
  }
 ],
 "metadata": {
  "kernelspec": {
   "display_name": "base",
   "language": "python",
   "name": "python3"
  },
  "language_info": {
   "codemirror_mode": {
    "name": "ipython",
    "version": 3
   },
   "file_extension": ".py",
   "mimetype": "text/x-python",
   "name": "python",
   "nbconvert_exporter": "python",
   "pygments_lexer": "ipython3",
   "version": "3.10.8"
  }
 },
 "nbformat": 4,
 "nbformat_minor": 2
}
