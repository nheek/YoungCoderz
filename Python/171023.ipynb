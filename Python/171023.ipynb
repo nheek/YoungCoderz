{
 "cells": [
  {
   "cell_type": "markdown",
   "metadata": {},
   "source": [
    "## Coin Flipper"
   ]
  },
  {
   "cell_type": "code",
   "execution_count": 1,
   "metadata": {},
   "outputs": [
    {
     "name": "stdout",
     "output_type": "stream",
     "text": [
      "computer won :(\n"
     ]
    }
   ],
   "source": [
    "import random # imports the random library so we can use it in our program\n",
    "\n",
    "user_choice = input(\"Heads or Tails?\").lower() # .lower() makes all the string lowercase\n",
    "user_choice = 0 if user_choice == \"heads\" else 1 # shorthand if-else\n",
    "result = random.randint(0, 1) # the program generates a random number between 0 and 1\n",
    "\n",
    "if user_choice == result:\n",
    "    print(\"You won!\")\n",
    "else:\n",
    "    print(\"computer won :(\")"
   ]
  },
  {
   "cell_type": "markdown",
   "metadata": {},
   "source": [
    "## Hogwarts Challenge"
   ]
  },
  {
   "cell_type": "code",
   "execution_count": 5,
   "metadata": {},
   "outputs": [
    {
     "name": "stdout",
     "output_type": "stream",
     "text": [
      "...\n",
      "hmmm...\n",
      "i sense something in you...\n",
      ", you are a...\n",
      "...\n",
      "...\n",
      "Gryffindor!\n"
     ]
    }
   ],
   "source": [
    "import random\n",
    "import time\n",
    "\n",
    "user_name = input(\"What's your full name?\").lower().title()\n",
    "result = random.randint(0, 3)\n",
    "hogwarts_houses = [\"Gryffindor\", \"Slytherin\", \"Ravenclaw\", \"Hufflepuff\"]\n",
    "results = [f\"{user_name}...\", \"hmmm...\", \"i sense something in you...\", \n",
    "           f\"{user_name}, you are a...\", \"...\", \"...\", f\"{hogwarts_houses[result]}!\"]\n",
    "\n",
    "for x in results:\n",
    "    print(x)\n",
    "    time.sleep(2)\n",
    "\n"
   ]
  },
  {
   "cell_type": "code",
   "execution_count": null,
   "metadata": {},
   "outputs": [],
   "source": []
  }
 ],
 "metadata": {
  "kernelspec": {
   "display_name": "base",
   "language": "python",
   "name": "python3"
  },
  "language_info": {
   "codemirror_mode": {
    "name": "ipython",
    "version": 3
   },
   "file_extension": ".py",
   "mimetype": "text/x-python",
   "name": "python",
   "nbconvert_exporter": "python",
   "pygments_lexer": "ipython3",
   "version": "3.10.8"
  }
 },
 "nbformat": 4,
 "nbformat_minor": 2
}
